{
  "nbformat": 4,
  "nbformat_minor": 0,
  "metadata": {
    "colab": {
      "name": "day1 assignment.ipynb",
      "provenance": []
    },
    "kernelspec": {
      "name": "python3",
      "display_name": "Python 3"
    },
    "language_info": {
      "name": "python"
    }
  },
  "cells": [
    {
      "cell_type": "code",
      "execution_count": 1,
      "metadata": {
        "colab": {
          "base_uri": "https://localhost:8080/"
        },
        "id": "1_mxIhh7o9FK",
        "outputId": "97bd9454-4825-47e4-890a-3205d902fb7a"
      },
      "outputs": [
        {
          "output_type": "stream",
          "name": "stdout",
          "text": [
            "Enter values: 23 35 66 77 11 223 45 466 11\n",
            "[23, 35, 66, 77, 11, 223, 45, 466, 11]\n",
            "957\n"
          ]
        }
      ],
      "source": [
        "x = [int(i) for i in input('Enter values: ').split()]\n",
        "print(x)\n",
        "print(sum(x))"
      ]
    }
  ]
}