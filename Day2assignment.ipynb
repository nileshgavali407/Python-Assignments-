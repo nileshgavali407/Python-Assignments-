{
  "nbformat": 4,
  "nbformat_minor": 0,
  "metadata": {
    "colab": {
      "name": "Day2assignment.ipynb",
      "provenance": [],
      "collapsed_sections": []
    },
    "kernelspec": {
      "name": "python3",
      "display_name": "Python 3"
    },
    "language_info": {
      "name": "python"
    }
  },
  "cells": [
    {
      "cell_type": "code",
      "source": [
        ""
      ],
      "metadata": {
        "id": "EK62qpKFghK_"
      },
      "execution_count": null,
      "outputs": []
    },
    {
      "cell_type": "code",
      "execution_count": 1,
      "metadata": {
        "colab": {
          "base_uri": "https://localhost:8080/"
        },
        "id": "-D-lCedbf734",
        "outputId": "ddc795cd-9783-4348-e3a0-6257f3dbde37"
      },
      "outputs": [
        {
          "output_type": "stream",
          "name": "stdout",
          "text": [
            "choose correct character of the word ' hello coders ' to win the lottery\n",
            " c\n",
            "congratulation,you win thwe lottery\n"
          ]
        }
      ],
      "source": [
        "lottery  = \"hello coders\"\n",
        "# 'h' or 'e' or 'o' or 'c' or 'd'\n",
        "print(\"choose correct character of the word '\",lottery,\"' to win the lottery\")\n",
        "inputs = input(\" \").lower()\n",
        "\n",
        "if inputs == lottery[0] or inputs == lottery[1] or inputs == lottery[4] or inputs == lottery[6] or inputs == lottery[8]:\n",
        "    print(\"congratulation,you win thwe lottery\")\n",
        "else:\n",
        "    print(\"sorry, You didn't win the lottery\")"
      ]
    }
  ]
}