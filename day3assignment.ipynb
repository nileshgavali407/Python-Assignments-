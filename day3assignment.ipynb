{
  "nbformat": 4,
  "nbformat_minor": 0,
  "metadata": {
    "colab": {
      "name": "day3assignment.ipynb",
      "provenance": []
    },
    "kernelspec": {
      "name": "python3",
      "display_name": "Python 3"
    },
    "language_info": {
      "name": "python"
    }
  },
  "cells": [
    {
      "cell_type": "code",
      "execution_count": 3,
      "metadata": {
        "colab": {
          "base_uri": "https://localhost:8080/"
        },
        "id": "8UASuip559_u",
        "outputId": "0f008e5a-73c5-4fef-a452-d463cfe620a5"
      },
      "outputs": [
        {
          "output_type": "stream",
          "name": "stdout",
          "text": [
            "Enter a number: 33\n",
            "The factorial of 33 is 8683317618811886495518194401280000000\n"
          ]
        }
      ],
      "source": [
        "# Day 3 Assignment:\n",
        "\n",
        "# Define a function which will take a number as argument and return its factorial.\n",
        "\n",
        "# Call the function to print factorial of any number(integer).\n",
        "\n",
        "\n",
        "def factorial(num):\n",
        "    factorial = 1    \n",
        "    if num < 0:    \n",
        "        print(\" Factorial does not exist for negative numbers\")    \n",
        "    elif num == 0:    \n",
        "        print(\"The factorial of 0 is 1\")    \n",
        "    else:    \n",
        "        for i in range(1,num + 1):    \n",
        "            factorial = factorial*i    \n",
        "        print(\"The factorial of\",num,\"is\",factorial)    \n",
        "\n",
        "\n",
        "num = int(input(\"Enter a number: \"))\n",
        "factorial(num)"
      ]
    }
  ]
}